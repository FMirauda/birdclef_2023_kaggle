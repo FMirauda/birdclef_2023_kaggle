{
 "cells": [
  {
   "cell_type": "markdown",
   "id": "a974b640-7185-4166-aa4a-22e5f354bbe8",
   "metadata": {},
   "source": [
    "# Generar Dataset"
   ]
  },
  {
   "cell_type": "code",
   "execution_count": 1,
   "id": "d6ea837d-e6ed-4218-a960-9a488dc2bc88",
   "metadata": {
    "tags": []
   },
   "outputs": [],
   "source": [
    "# import the packages\n",
    "import os\n",
    "import torchaudio\n",
    "import IPython.display as ipd\n",
    "import matplotlib.pyplot as plt\n",
    "import torch\n",
    "from torch.utils.data import Dataset, DataLoader\n",
    "from pathlib import Path\n",
    "import pandas as pd\n",
    "from sklearn.model_selection import train_test_split\n",
    "from sklearn import preprocessing\n",
    "import soundfile as sf\n",
    "import librosa as lb\n",
    "import numpy as np\n",
    "import cv2 as cv\n",
    "from torchvision import datasets, models, transforms\n",
    "import torch.nn as nn\n",
    "import torch.nn.functional as F\n",
    "import torch.optim as optim\n",
    "from torchinfo import summary"
   ]
  },
  {
   "cell_type": "code",
   "execution_count": 2,
   "id": "f0ffcdd0-a93d-4bb7-b8b7-ed48a673c90a",
   "metadata": {
    "tags": []
   },
   "outputs": [
    {
     "data": {
      "text/html": [
       "<div>\n",
       "<style scoped>\n",
       "    .dataframe tbody tr th:only-of-type {\n",
       "        vertical-align: middle;\n",
       "    }\n",
       "\n",
       "    .dataframe tbody tr th {\n",
       "        vertical-align: top;\n",
       "    }\n",
       "\n",
       "    .dataframe thead th {\n",
       "        text-align: right;\n",
       "    }\n",
       "</style>\n",
       "<table border=\"1\" class=\"dataframe\">\n",
       "  <thead>\n",
       "    <tr style=\"text-align: right;\">\n",
       "      <th></th>\n",
       "      <th>primary_label</th>\n",
       "      <th>secondary_labels</th>\n",
       "      <th>type</th>\n",
       "      <th>latitude</th>\n",
       "      <th>longitude</th>\n",
       "      <th>scientific_name</th>\n",
       "      <th>common_name</th>\n",
       "      <th>author</th>\n",
       "      <th>license</th>\n",
       "      <th>rating</th>\n",
       "      <th>url</th>\n",
       "      <th>filename</th>\n",
       "    </tr>\n",
       "  </thead>\n",
       "  <tbody>\n",
       "    <tr>\n",
       "      <th>0</th>\n",
       "      <td>abethr1</td>\n",
       "      <td>[]</td>\n",
       "      <td>['song']</td>\n",
       "      <td>4.3906</td>\n",
       "      <td>38.2788</td>\n",
       "      <td>Turdus tephronotus</td>\n",
       "      <td>African Bare-eyed Thrush</td>\n",
       "      <td>Rolf A. de By</td>\n",
       "      <td>Creative Commons Attribution-NonCommercial-Sha...</td>\n",
       "      <td>4.0</td>\n",
       "      <td>https://www.xeno-canto.org/128013</td>\n",
       "      <td>abethr1/XC128013.ogg</td>\n",
       "    </tr>\n",
       "    <tr>\n",
       "      <th>13</th>\n",
       "      <td>abethr1</td>\n",
       "      <td>[]</td>\n",
       "      <td>['adult', 'call', 'sex uncertain', 'song']</td>\n",
       "      <td>-2.9858</td>\n",
       "      <td>37.5975</td>\n",
       "      <td>Turdus tephronotus</td>\n",
       "      <td>African Bare-eyed Thrush</td>\n",
       "      <td>isaac kilusu</td>\n",
       "      <td>Creative Commons Attribution-NonCommercial-Sha...</td>\n",
       "      <td>5.0</td>\n",
       "      <td>https://www.xeno-canto.org/639039</td>\n",
       "      <td>abethr1/XC639039.ogg</td>\n",
       "    </tr>\n",
       "    <tr>\n",
       "      <th>12</th>\n",
       "      <td>abethr1</td>\n",
       "      <td>[]</td>\n",
       "      <td>['adult', 'sex uncertain', 'song']</td>\n",
       "      <td>-2.9858</td>\n",
       "      <td>37.5975</td>\n",
       "      <td>Turdus tephronotus</td>\n",
       "      <td>African Bare-eyed Thrush</td>\n",
       "      <td>isaac kilusu</td>\n",
       "      <td>Creative Commons Attribution-NonCommercial-Sha...</td>\n",
       "      <td>4.0</td>\n",
       "      <td>https://www.xeno-canto.org/616997</td>\n",
       "      <td>abethr1/XC616997.ogg</td>\n",
       "    </tr>\n",
       "    <tr>\n",
       "      <th>11</th>\n",
       "      <td>abethr1</td>\n",
       "      <td>['eswdov1', 'helgui', 'rindov']</td>\n",
       "      <td>['song']</td>\n",
       "      <td>-2.8802</td>\n",
       "      <td>38.1861</td>\n",
       "      <td>Turdus tephronotus</td>\n",
       "      <td>African Bare-eyed Thrush</td>\n",
       "      <td>Sidney Shema</td>\n",
       "      <td>Creative Commons Attribution-NonCommercial-Sha...</td>\n",
       "      <td>4.5</td>\n",
       "      <td>https://www.xeno-canto.org/606253</td>\n",
       "      <td>abethr1/XC606253.ogg</td>\n",
       "    </tr>\n",
       "    <tr>\n",
       "      <th>10</th>\n",
       "      <td>abethr1</td>\n",
       "      <td>[]</td>\n",
       "      <td>['song']</td>\n",
       "      <td>NaN</td>\n",
       "      <td>NaN</td>\n",
       "      <td>Turdus tephronotus</td>\n",
       "      <td>African Bare-eyed Thrush</td>\n",
       "      <td>isaac kilusu</td>\n",
       "      <td>Creative Commons Attribution-NonCommercial-Sha...</td>\n",
       "      <td>4.0</td>\n",
       "      <td>https://www.xeno-canto.org/585802</td>\n",
       "      <td>abethr1/XC585802.ogg</td>\n",
       "    </tr>\n",
       "  </tbody>\n",
       "</table>\n",
       "</div>"
      ],
      "text/plain": [
       "   primary_label                 secondary_labels  \\\n",
       "0        abethr1                               []   \n",
       "13       abethr1                               []   \n",
       "12       abethr1                               []   \n",
       "11       abethr1  ['eswdov1', 'helgui', 'rindov']   \n",
       "10       abethr1                               []   \n",
       "\n",
       "                                          type  latitude  longitude  \\\n",
       "0                                     ['song']    4.3906    38.2788   \n",
       "13  ['adult', 'call', 'sex uncertain', 'song']   -2.9858    37.5975   \n",
       "12          ['adult', 'sex uncertain', 'song']   -2.9858    37.5975   \n",
       "11                                    ['song']   -2.8802    38.1861   \n",
       "10                                    ['song']       NaN        NaN   \n",
       "\n",
       "       scientific_name               common_name         author  \\\n",
       "0   Turdus tephronotus  African Bare-eyed Thrush  Rolf A. de By   \n",
       "13  Turdus tephronotus  African Bare-eyed Thrush   isaac kilusu   \n",
       "12  Turdus tephronotus  African Bare-eyed Thrush   isaac kilusu   \n",
       "11  Turdus tephronotus  African Bare-eyed Thrush   Sidney Shema   \n",
       "10  Turdus tephronotus  African Bare-eyed Thrush   isaac kilusu   \n",
       "\n",
       "                                              license  rating  \\\n",
       "0   Creative Commons Attribution-NonCommercial-Sha...     4.0   \n",
       "13  Creative Commons Attribution-NonCommercial-Sha...     5.0   \n",
       "12  Creative Commons Attribution-NonCommercial-Sha...     4.0   \n",
       "11  Creative Commons Attribution-NonCommercial-Sha...     4.5   \n",
       "10  Creative Commons Attribution-NonCommercial-Sha...     4.0   \n",
       "\n",
       "                                  url              filename  \n",
       "0   https://www.xeno-canto.org/128013  abethr1/XC128013.ogg  \n",
       "13  https://www.xeno-canto.org/639039  abethr1/XC639039.ogg  \n",
       "12  https://www.xeno-canto.org/616997  abethr1/XC616997.ogg  \n",
       "11  https://www.xeno-canto.org/606253  abethr1/XC606253.ogg  \n",
       "10  https://www.xeno-canto.org/585802  abethr1/XC585802.ogg  "
      ]
     },
     "execution_count": 2,
     "metadata": {},
     "output_type": "execute_result"
    }
   ],
   "source": [
    "train_df = pd.read_csv(\"birdclef_2023/train_metadata.csv\").sort_values('primary_label',ascending=True)\n",
    "train_df.head()"
   ]
  },
  {
   "cell_type": "code",
   "execution_count": 3,
   "id": "8db14452-5792-408d-b005-95cd8ed4f1fb",
   "metadata": {
    "tags": []
   },
   "outputs": [],
   "source": [
    "train_df = pd.concat([train_df, pd.get_dummies(train_df['primary_label'])], axis=1)"
   ]
  },
  {
   "cell_type": "code",
   "execution_count": 4,
   "id": "c9071032-f82f-4df5-a9e9-44d6722c90ad",
   "metadata": {
    "tags": []
   },
   "outputs": [],
   "source": [
    "# Split data extracted from https://www.kaggle.com/code/nischaydnk/split-creating-melspecs-stage-1\n",
    "# Consider classes with only one audio file in the train. Also stratify the split.\n",
    "def birds_stratified_split(df, target_col, test_size=0.2):\n",
    "    class_counts = df[target_col].value_counts()\n",
    "    low_count_classes = class_counts[class_counts < 2].index.tolist() ### Birds with single counts\n",
    "\n",
    "    df['train'] = df[target_col].isin(low_count_classes)\n",
    "\n",
    "    train_df, val_df = train_test_split(df[~df['train']], test_size=test_size, stratify=df[~df['train']][target_col], random_state=42)\n",
    "\n",
    "    train_df = pd.concat([train_df, df[df['train']]], axis=0).reset_index(drop=True)\n",
    "\n",
    "    # Remove the 'train' column\n",
    "    train_df.drop('train', axis=1, inplace=True)\n",
    "    val_df.drop('train', axis=1, inplace=True)\n",
    "\n",
    "    return train_df, val_df"
   ]
  },
  {
   "cell_type": "code",
   "execution_count": 5,
   "id": "fc1c13c9-ca91-43af-85e6-211b5e50766a",
   "metadata": {
    "tags": []
   },
   "outputs": [],
   "source": [
    "train_df, val_df = birds_stratified_split(train_df, 'primary_label')"
   ]
  },
  {
   "cell_type": "code",
   "execution_count": 6,
   "id": "fb312a73-06a6-4cba-9c13-e4987eb48ac9",
   "metadata": {
    "tags": []
   },
   "outputs": [
    {
     "data": {
      "text/plain": [
       "tensor([0., 0., 0., 0., 0., 0., 0., 0., 0., 0., 0., 0., 0., 0., 0., 0., 0., 0.,\n",
       "        0., 0., 0., 0., 0., 0., 0., 0., 0., 0., 0., 0., 0., 0., 0., 0., 0., 0.,\n",
       "        0., 0., 0., 0., 0., 0., 0., 0., 0., 0., 0., 0., 0., 0., 0., 0., 0., 0.,\n",
       "        0., 0., 0., 0., 0., 0., 0., 0., 0., 0., 0., 0., 0., 0., 0., 0., 0., 0.,\n",
       "        0., 0., 0., 0., 0., 0., 0., 0., 0., 0., 0., 0., 0., 0., 0., 0., 0., 0.,\n",
       "        0., 0., 0., 0., 0., 0., 0., 0., 0., 0., 0., 0., 0., 0., 0., 0., 0., 0.,\n",
       "        0., 0., 0., 0., 0., 0., 0., 0., 0., 0., 0., 0., 0., 0., 0., 0., 0., 0.,\n",
       "        0., 0., 0., 0., 0., 0., 0., 0., 0., 0., 0., 0., 0., 0., 0., 0., 0., 0.,\n",
       "        0., 0., 0., 0., 0., 0., 0., 0., 0., 0., 0., 0., 0., 0., 0., 0., 0., 0.,\n",
       "        0., 0., 0., 0., 0., 0., 0., 0., 0., 0., 0., 0., 0., 0., 0., 0., 0., 0.,\n",
       "        0., 0., 0., 0., 0., 0., 0., 0., 0., 0., 0., 0., 0., 0., 0., 0., 0., 0.,\n",
       "        0., 0., 0., 0., 0., 0., 0., 0., 0., 0., 0., 0., 0., 0., 0., 0., 0., 0.,\n",
       "        0., 0., 0., 0., 0., 0., 0., 0., 0., 0., 0., 0., 0., 0., 0., 0., 0., 0.,\n",
       "        0., 0., 0., 0., 0., 0., 0., 0., 0., 0., 0., 0., 0., 0., 0., 1., 0., 0.,\n",
       "        0., 0., 0., 0., 0., 0., 0., 0., 0., 0., 0., 0.])"
      ]
     },
     "execution_count": 6,
     "metadata": {},
     "output_type": "execute_result"
    }
   ],
   "source": [
    "# Extract only the labels of a row\n",
    "torch.tensor(train_df.iloc[0][12:]).float()"
   ]
  },
  {
   "cell_type": "code",
   "execution_count": null,
   "id": "4da8085b-7e1a-4a0c-ba67-3fcbdffa3880",
   "metadata": {},
   "outputs": [],
   "source": []
  },
  {
   "cell_type": "code",
   "execution_count": 7,
   "id": "3d46c5c1-dd4d-43ef-ac6b-bcb37c2562b7",
   "metadata": {},
   "outputs": [],
   "source": [
    "# Code adapted from https://www.kaggle.com/code/nischaydnk/split-creating-melspecs-stage-1\n",
    "# The idea is generate the spectrogram of the audio\n",
    "class Config:\n",
    "    sampling_rate = 32000\n",
    "    duration = 5 \n",
    "    fmin = 0\n",
    "    fmax = None \n",
    "\n",
    "def compute_melspec(y, sr, n_mels, fmin, fmax):\n",
    "    \"\"\"\n",
    "    Computes a mel-spectrogram and puts it at decibel scale\n",
    "    Arguments:\n",
    "        y {np array} -- signal\n",
    "        params {AudioParams} -- Parameters to use for the spectrogram. Expected to have the attributes sr, n_mels, f_min, f_max\n",
    "    Returns:\n",
    "        np array -- Mel-spectrogram\n",
    "    \"\"\"\n",
    "    melspec = lb.feature.melspectrogram(\n",
    "        y=y, sr=sr, n_mels=n_mels, fmin=fmin, fmax=fmax,\n",
    "    )\n",
    "\n",
    "    melspec = lb.power_to_db(melspec).astype(np.float32)\n",
    "    return melspec\n",
    "\n",
    "def mono_to_color(X, eps=1e-6, mean=None, std=None):\n",
    "    mean = mean or X.mean()\n",
    "    std = std or X.std()\n",
    "    X = (X - mean) / (std + eps)\n",
    "    \n",
    "    _min, _max = X.min(), X.max()\n",
    "\n",
    "    if (_max - _min) > eps:\n",
    "        V = np.clip(X, _min, _max)\n",
    "        V = 255 * (V - _min) / (_max - _min)\n",
    "        V = V.astype(np.uint8)\n",
    "    else:\n",
    "        V = np.zeros_like(X, dtype=np.uint8)\n",
    "\n",
    "    return V\n",
    "\n",
    "def crop_or_pad(y, length, is_train=True, start=None):\n",
    "    if len(y) < length:\n",
    "        y = np.concatenate([y, np.zeros(length - len(y))])\n",
    "        \n",
    "        n_repeats = length // len(y)\n",
    "        epsilon = length % len(y)\n",
    "        \n",
    "        y = np.concatenate([y]*n_repeats + [y[:epsilon]])\n",
    "        \n",
    "    elif len(y) > length:\n",
    "        if not is_train:\n",
    "            start = start or 0\n",
    "        else:\n",
    "            start = start or np.random.randint(len(y) - length)\n",
    "\n",
    "        y = y[start:start + length]\n",
    "\n",
    "    return y\n",
    "\n",
    "class AudioToImage:\n",
    "    def __init__(self, sr=Config.sampling_rate, n_mels=128, fmin=Config.fmin, fmax=Config.fmax, \n",
    "                 duration=Config.duration, step=None, res_type=\"kaiser_fast\", resample=True, train=True):\n",
    "\n",
    "        self.sr = sr\n",
    "        self.n_mels = n_mels\n",
    "        self.fmin = fmin\n",
    "        self.fmax = fmax or self.sr//2\n",
    "\n",
    "        self.duration = duration\n",
    "        self.audio_length = self.duration*self.sr\n",
    "        self.step = step or self.audio_length\n",
    "        \n",
    "        self.res_type = res_type\n",
    "        self.resample = resample\n",
    "\n",
    "        self.train = train\n",
    "        \n",
    "    def audio_to_image(self, audio):\n",
    "        melspec = compute_melspec(audio, self.sr, self.n_mels, self.fmin, self.fmax ) \n",
    "        image = mono_to_color(melspec)\n",
    "        return image\n",
    "\n",
    "    def __call__(self, row):\n",
    "        audio, orig_sr = sf.read(os.path.join(\"birdclef_2023/train_audio\", row.filename), dtype=\"float32\")\n",
    "        \n",
    "        if self.resample and orig_sr != self.sr:\n",
    "            audio = lb.resample(audio, orig_sr, self.sr, res_type=self.res_type)\n",
    "        \n",
    "        \n",
    "        audios = [audio[i:i+self.audio_length] for i in range(0, max(1, len(audio) - self.audio_length + 1), self.step)]\n",
    "        audios[-1] = crop_or_pad(audios[-1] , length=self.audio_length)\n",
    "        images = [self.audio_to_image(audio) for audio in audios]\n",
    "        images = np.stack(images)\n",
    "        \n",
    "        return  row.filename, images"
   ]
  },
  {
   "cell_type": "code",
   "execution_count": 17,
   "id": "430eddef-004c-4595-b6ea-bb5b9247cd79",
   "metadata": {
    "tags": []
   },
   "outputs": [],
   "source": [
    "# Función para generar el dataset\n",
    "\n",
    "class AudioDataset(Dataset):\n",
    "    def __init__(self, df, main_path, transform = False, train = True):\n",
    "        self.metadata = df\n",
    "        self.main_path = main_path\n",
    "        self.transform = transform\n",
    "        self.transforms = transforms.Compose([transforms.ToPILImage(),\n",
    "                                              transforms.Resize((81,201)), \n",
    "                                              transforms.ToTensor()\n",
    "                                             ])\n",
    "        self.train = train\n",
    "\n",
    "    def __len__(self):\n",
    "        return len(self.metadata)\n",
    "\n",
    "    def __getitem__(self, idx):\n",
    "        label = torch.tensor(self.metadata.iloc[idx][12:]).float()\n",
    "\n",
    "        filename = self.metadata.iloc[idx].filename\n",
    "        file_path = os.path.join(self.main_path, filename)\n",
    "        converter = AudioToImage(step=int(Config.duration*0.666*Config.sampling_rate))\n",
    "        _, images = converter.__call__(self.metadata.iloc[idx])\n",
    "        image = images[:5]\n",
    "        \n",
    "        ########## RANDOM SAMPLING ################\n",
    "        if self.train:\n",
    "            image = image[np.random.choice(len(image))]\n",
    "        else:\n",
    "            image = image[0]\n",
    "        ###########################################    \n",
    "            \n",
    "        image = torch.tensor(image).float()\n",
    "        image = torch.stack([image, image, image])\n",
    "        # NORMALIZE\n",
    "        image = image / 255.0\n",
    "\n",
    "        if self.transform:\n",
    "            image = self.transforms(image)\n",
    "        \n",
    "        return image, label"
   ]
  },
  {
   "cell_type": "code",
   "execution_count": 18,
   "id": "85048971-a0c4-4f81-9908-5f850b80b315",
   "metadata": {
    "tags": []
   },
   "outputs": [],
   "source": [
    "train_dataset = AudioDataset(train_df, \"birdclef_2023/train_audio\", True)\n",
    "val_dataset = AudioDataset(val_df, \"birdclef_2023/train_audio\", True, False)"
   ]
  },
  {
   "cell_type": "code",
   "execution_count": 19,
   "id": "744293df-f433-4551-a036-5a76147f3d4e",
   "metadata": {},
   "outputs": [
    {
     "name": "stdout",
     "output_type": "stream",
     "text": [
      "torch.Size([3, 81, 201])\n",
      "torch.Size([264])\n",
      "torch.Size([3, 81, 201])\n",
      "torch.Size([264])\n",
      "torch.Size([3, 81, 201])\n",
      "torch.Size([264])\n",
      "torch.Size([3, 81, 201])\n",
      "torch.Size([264])\n"
     ]
    },
    {
     "data": {
      "image/png": "[encoded data removed]",
      "text/plain": [
       "<Figure size 640x480 with 4 Axes>"
      ]
     },
     "metadata": {},
     "output_type": "display_data"
    }
   ],
   "source": [
    "fig = plt.figure()\n",
    "\n",
    "for i, sample in enumerate(train_dataset):\n",
    "    spectro = sample[0]\n",
    "    label = sample[1]\n",
    "    print(spectro.shape)\n",
    "    print(label.shape)\n",
    "\n",
    "    ax = plt.subplot(1, 4, i + 1)\n",
    "    plt.tight_layout()\n",
    "    #ax.set_title('Sample #{}'.format(i))\n",
    "    ax.set_title('Sample #{}'.format(i))\n",
    "    ax.axis('off')\n",
    "    #plt.imshow(spectro.log2()[0,:,:].numpy(), cmap='viridis')\n",
    "    plt.imshow(spectro[0], cmap='viridis')\n",
    "\n",
    "    if i == 3:\n",
    "        plt.show()\n",
    "        break"
   ]
  },
  {
   "cell_type": "markdown",
   "id": "3cbba15a-8973-469b-92e4-f1b25f77504d",
   "metadata": {
    "tags": []
   },
   "source": [
    "# Dataloader"
   ]
  },
  {
   "cell_type": "code",
   "execution_count": 20,
   "id": "32c9fab0-a567-40f9-bc7f-e949433503f4",
   "metadata": {
    "tags": []
   },
   "outputs": [],
   "source": [
    "train_dataloader = torch.utils.data.DataLoader(\n",
    "    train_dataset,\n",
    "    batch_size=15,\n",
    "    num_workers=2,\n",
    "    shuffle=True\n",
    ")\n",
    "\n",
    "val_dataloader = torch.utils.data.DataLoader(\n",
    "    val_dataset,\n",
    "    batch_size=15,\n",
    "    num_workers=2,\n",
    "    shuffle=True\n",
    ")"
   ]
  },
  {
   "cell_type": "markdown",
   "id": "622aab73-8ab8-4169-b827-bf16f4aa6f0c",
   "metadata": {},
   "source": [
    "# Crear modelo"
   ]
  },
  {
   "cell_type": "code",
   "execution_count": 21,
   "id": "6ec76ed2-117f-490b-95c3-60ec05d36143",
   "metadata": {
    "tags": []
   },
   "outputs": [
    {
     "data": {
      "text/plain": [
       "585600.0"
      ]
     },
     "execution_count": 21,
     "metadata": {},
     "output_type": "execute_result"
    }
   ],
   "source": [
    "120*305*64*0.5*0.5"
   ]
  },
  {
   "cell_type": "code",
   "execution_count": 22,
   "id": "b685ac6f-db89-485f-b1d1-7bf845665c70",
   "metadata": {
    "tags": []
   },
   "outputs": [
    {
     "data": {
      "text/plain": [
       "51136.0"
      ]
     },
     "execution_count": 22,
     "metadata": {},
     "output_type": "execute_result"
    }
   ],
   "source": [
    "94*34*64*0.5*0.5"
   ]
  },
  {
   "cell_type": "code",
   "execution_count": 14,
   "id": "4abd48cf-f199-4336-b4a4-03c2e36d41da",
   "metadata": {
    "tags": []
   },
   "outputs": [],
   "source": [
    "class CNNet(nn.Module):\n",
    "    def __init__(self):\n",
    "        super().__init__()\n",
    "        self.conv1 = nn.Conv2d(3, 32, kernel_size=5)\n",
    "        self.conv2 = nn.Conv2d(32, 64, kernel_size=5)\n",
    "        self.conv2_drop = nn.Dropout2d()\n",
    "        self.flatten = nn.Flatten()\n",
    "        #self.fc1 = nn.Linear(585600, 2000)\n",
    "        self.fc1 = nn.Linear(51136, 2000)\n",
    "        self.fc2 = nn.Linear(2000, 264)\n",
    "\n",
    "\n",
    "    def forward(self, x):\n",
    "        #print(x.shape)\n",
    "        x = F.relu(F.max_pool2d(self.conv1(x), 2))\n",
    "        #print(x.shape)\n",
    "        x = F.relu(F.max_pool2d(self.conv2_drop(self.conv2(x)), 2))\n",
    "        #print(x.shape)\n",
    "        #x = x.view(x.size(0), -1)\n",
    "        x = self.flatten(x)\n",
    "        #print(x.shape)\n",
    "        x = F.relu(self.fc1(x))\n",
    "        #print(x.shape)\n",
    "        x = F.dropout(x, training=self.training)\n",
    "        #print(x.shape)\n",
    "        x = F.relu(self.fc2(x))\n",
    "        #x = x.unqueeze(1)\n",
    "        #print(x.shape)\n",
    "        return x\n",
    "        #\n",
    "        #return F.log_softmax(x,dim=1)  \n",
    "\n",
    "device = 'cuda'\n",
    "model = CNNet().to(device)"
   ]
  },
  {
   "cell_type": "code",
   "execution_count": 15,
   "id": "be3ead82-ed78-4c02-848b-f6f88c2ebf50",
   "metadata": {},
   "outputs": [],
   "source": [
    "# cost function used to determine best parameters\n",
    "cost = torch.nn.BCEWithLogitsLoss()\n",
    "\n",
    "# used to create optimal parameters\n",
    "learning_rate = 0.0001\n",
    "optimizer = torch.optim.Adam(model.parameters(), lr=learning_rate)\n",
    "\n",
    "# Create the training function\n",
    "\n",
    "def train(dataloader, model, loss, optimizer):\n",
    "    model.train()\n",
    "    size = len(dataloader.dataset)\n",
    "    for batch, (X, Y) in enumerate(dataloader):\n",
    "        \n",
    "        X, Y = X.to(device), Y.to(device)\n",
    "        optimizer.zero_grad()\n",
    "        pred = model(X)\n",
    "        loss = cost(pred, Y)\n",
    "        loss.backward()\n",
    "        optimizer.step()\n",
    "\n",
    "        if batch % 100 == 0:\n",
    "            loss, current = loss.item(), batch * len(X)\n",
    "            print(f'loss: {loss:>7f}  [{current:>5d}/{size:>5d}]')\n",
    "\n",
    "# Create the validation/test function\n",
    "\n",
    "def test(dataloader, model):\n",
    "    size = len(dataloader.dataset)\n",
    "    model.eval()\n",
    "    test_loss, ttp, tfp = 0, 0, 0\n",
    "\n",
    "    with torch.no_grad():\n",
    "        for batch, (X, Y) in enumerate(dataloader):\n",
    "            X, Y = X.to(device), Y.to(device)\n",
    "            pred = model(X)\n",
    "\n",
    "            test_loss += cost(pred, Y).item()\n",
    "            #correct += (pred.round()==Y).type(torch.float).sum().item()\n",
    "            pred = pred.round()\n",
    "            tp = torch.add(pred, Y)\n",
    "            tp = torch.where(tp > 1, 1.0, 0.0)\n",
    "            tp = tp.type(torch.float).sum().item()\n",
    "            ttp += tp\n",
    "            \n",
    "            fp = torch.sub(pred, Y) #->fp contar los 2\n",
    "            fp = torch.where(fp > 0, 1.0, 0.0)\n",
    "            fp = fp.type(torch.float).sum().item()\n",
    "            tfp += fp\n",
    "\n",
    "    test_loss /= size\n",
    "    #correct /= size\n",
    "    if (ttp + tfp) == 0:\n",
    "        mAP = 0\n",
    "    else:\n",
    "        mAP = ttp/(ttp+tfp) # micro average precision\n",
    "\n",
    "    print(f'\\nTest Error:\\nmAP: {(100*mAP):>0.1f}%, avg loss: {test_loss:>8f}\\n')\n"
   ]
  },
  {
   "cell_type": "code",
   "execution_count": 16,
   "id": "7b776bc5-6e95-4114-8e48-8584fb3ee99d",
   "metadata": {
    "tags": []
   },
   "outputs": [
    {
     "name": "stdout",
     "output_type": "stream",
     "text": [
      "Epoch 1\n",
      "-------------------------------\n",
      "loss: 0.698119  [    0/13554]\n",
      "loss: 0.693151  [ 1500/13554]\n"
     ]
    },
    {
     "name": "stderr",
     "output_type": "stream",
     "text": [
      "\n",
      "KeyboardInterrupt\n",
      "\n"
     ]
    }
   ],
   "source": [
    "epochs = 15\n",
    "\n",
    "for t in range(epochs):\n",
    "    print(f'Epoch {t+1}\\n-------------------------------')\n",
    "    train(train_dataloader, model, cost, optimizer)\n",
    "    test(test_dataloader, model)\n",
    "print('Done!')"
   ]
  },
  {
   "cell_type": "code",
   "execution_count": null,
   "id": "0155f1e3-8671-4094-b67d-65f3ab3d37b9",
   "metadata": {},
   "outputs": [],
   "source": []
  }
 ],
 "metadata": {
  "kernelspec": {
   "display_name": "kaggle_env",
   "language": "python",
   "name": "kaggle_env"
  },
  "language_info": {
   "codemirror_mode": {
    "name": "ipython",
    "version": 3
   },
   "file_extension": ".py",
   "mimetype": "text/x-python",
   "name": "python",
   "nbconvert_exporter": "python",
   "pygments_lexer": "ipython3",
   "version": "3.8.10"
  }
 },
 "nbformat": 4,
 "nbformat_minor": 5
}
